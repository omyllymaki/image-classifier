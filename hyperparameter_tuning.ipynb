{
 "cells": [
  {
   "cell_type": "markdown",
   "metadata": {},
   "source": [
    "# Photo Classifier: Hyperparameter tuning"
   ]
  },
  {
   "cell_type": "markdown",
   "metadata": {},
   "source": [
    "## Imports"
   ]
  },
  {
   "cell_type": "code",
   "execution_count": 1,
   "metadata": {
    "ExecuteTime": {
     "end_time": "2019-06-05T14:51:45.338668Z",
     "start_time": "2019-06-05T14:51:44.992449Z"
    }
   },
   "outputs": [],
   "source": [
    "from IPython.core.interactiveshell import InteractiveShell\n",
    "%matplotlib inline\n",
    "%load_ext autoreload\n",
    "%autoreload 2\n",
    "InteractiveShell.ast_node_interactivity = \"all\""
   ]
  },
  {
   "cell_type": "code",
   "execution_count": 2,
   "metadata": {
    "ExecuteTime": {
     "end_time": "2019-06-05T14:51:45.397660Z",
     "start_time": "2019-06-05T14:51:45.338668Z"
    }
   },
   "outputs": [],
   "source": [
    "import logging"
   ]
  },
  {
   "cell_type": "code",
   "execution_count": 3,
   "metadata": {
    "ExecuteTime": {
     "end_time": "2019-06-05T14:51:46.483769Z",
     "start_time": "2019-06-05T14:51:45.399617Z"
    }
   },
   "outputs": [],
   "source": [
    "from file_io import load_pickle_file\n",
    "from constants import *\n",
    "from utils import *\n",
    "from model import get_pretrained_model_for_transfer_learning\n",
    "from learners.utils import get_learner\n",
    "from model_optimizer import ModelOptimizer\n",
    "from image_transforms import *"
   ]
  },
  {
   "cell_type": "code",
   "execution_count": 4,
   "metadata": {
    "ExecuteTime": {
     "end_time": "2019-06-05T14:51:46.581925Z",
     "start_time": "2019-06-05T14:51:46.483769Z"
    }
   },
   "outputs": [],
   "source": [
    "if RANDOM_SEED:\n",
    "    set_random_seeds(RANDOM_SEED)\n",
    "logging.basicConfig(level=logging.INFO)"
   ]
  },
  {
   "cell_type": "markdown",
   "metadata": {
    "ExecuteTime": {
     "end_time": "2019-05-31T14:17:31.698276Z",
     "start_time": "2019-05-31T14:17:31.694283Z"
    }
   },
   "source": [
    "## Load model and data"
   ]
  },
  {
   "cell_type": "code",
   "execution_count": 5,
   "metadata": {
    "ExecuteTime": {
     "end_time": "2019-06-05T14:51:49.188604Z",
     "start_time": "2019-06-05T14:51:46.583923Z"
    }
   },
   "outputs": [],
   "source": [
    "image_data = load_pickle_file(IMAGE_DATA_PATH)"
   ]
  },
  {
   "cell_type": "code",
   "execution_count": 6,
   "metadata": {
    "ExecuteTime": {
     "end_time": "2019-06-05T14:51:51.257534Z",
     "start_time": "2019-06-05T14:51:49.190598Z"
    }
   },
   "outputs": [],
   "source": [
    "n_classes = len(image_data.labels)\n",
    "model = get_pretrained_model_for_transfer_learning(n_classes, IS_MULTILABEL_CLASSIFICATION, DROPOUT, MODEL_ARCHITECTURE)\n",
    "Learner = get_learner(IS_MULTILABEL_CLASSIFICATION)\n",
    "learner = Learner(model, use_gpu=USE_GPU)"
   ]
  },
  {
   "cell_type": "markdown",
   "metadata": {},
   "source": [
    "## Hyperparameter tuning"
   ]
  },
  {
   "cell_type": "code",
   "execution_count": 7,
   "metadata": {
    "ExecuteTime": {
     "end_time": "2019-06-05T14:51:51.452013Z",
     "start_time": "2019-06-05T14:51:51.259530Z"
    }
   },
   "outputs": [],
   "source": [
    "parameter_options = {\n",
    "    'learning_rate': [0.002*k for k in range(10)],\n",
    "    'weight_decay': [0.002*k for k in range(10)],\n",
    "    'epochs': [5],\n",
    "    'batch_size': [5, 10, 15],\n",
    "    'image_transforms_training': [TransformsTraining],\n",
    "    'image_transforms_validation': [TransformsTest],\n",
    "    'early_stop_option': [False],\n",
    "}"
   ]
  },
  {
   "cell_type": "code",
   "execution_count": 8,
   "metadata": {
    "ExecuteTime": {
     "end_time": "2019-06-05T14:54:46.003247Z",
     "start_time": "2019-06-05T14:51:51.456004Z"
    }
   },
   "outputs": [
    {
     "name": "stderr",
     "output_type": "stream",
     "text": [
      "INFO:model_optimizer:1/3\n",
      "INFO:learners.base_learner:\n",
      "            Epoch: 1/5\n",
      "            Validation loss: 0.4340628385543823\n",
      "INFO:learners.base_learner:\n",
      "            Epoch: 2/5\n",
      "            Validation loss: 0.28909239172935486\n",
      "INFO:learners.base_learner:\n",
      "            Epoch: 3/5\n",
      "            Validation loss: 0.27430713176727295\n",
      "INFO:learners.base_learner:\n",
      "            Epoch: 4/5\n",
      "            Validation loss: 0.37183988094329834\n",
      "INFO:learners.base_learner:\n",
      "            Epoch: 5/5\n",
      "            Validation loss: 0.24248048663139343\n",
      "INFO:learners.base_learner:Lowest validation loss: epoch: 5; loss: 0.24248048663139343\n",
      "INFO:model_optimizer:2/3\n",
      "INFO:learners.base_learner:\n",
      "            Epoch: 1/5\n",
      "            Validation loss: 0.8453465700149536\n",
      "INFO:learners.base_learner:\n",
      "            Epoch: 2/5\n",
      "            Validation loss: 1.0723724365234375\n",
      "INFO:learners.base_learner:\n",
      "            Epoch: 3/5\n",
      "            Validation loss: 0.5433592200279236\n",
      "INFO:learners.base_learner:\n",
      "            Epoch: 4/5\n",
      "            Validation loss: 0.42382901906967163\n",
      "INFO:learners.base_learner:\n",
      "            Epoch: 5/5\n",
      "            Validation loss: 0.3540666103363037\n",
      "INFO:learners.base_learner:Lowest validation loss: epoch: 5; loss: 0.3540666103363037\n",
      "INFO:model_optimizer:3/3\n",
      "INFO:learners.base_learner:\n",
      "            Epoch: 1/5\n",
      "            Validation loss: 0.45111116766929626\n",
      "INFO:learners.base_learner:\n",
      "            Epoch: 2/5\n",
      "            Validation loss: 0.6617376208305359\n",
      "INFO:learners.base_learner:\n",
      "            Epoch: 3/5\n",
      "            Validation loss: 0.9682966470718384\n",
      "INFO:learners.base_learner:\n",
      "            Epoch: 4/5\n",
      "            Validation loss: 0.5822705626487732\n",
      "INFO:learners.base_learner:\n",
      "            Epoch: 5/5\n",
      "            Validation loss: 0.43892890214920044\n",
      "INFO:learners.base_learner:Lowest validation loss: epoch: 5; loss: 0.43892890214920044\n"
     ]
    }
   ],
   "source": [
    "optimizer = ModelOptimizer(learner, image_data, parameter_options)\n",
    "results = optimizer.run_random_search(3)"
   ]
  },
  {
   "cell_type": "code",
   "execution_count": 9,
   "metadata": {
    "ExecuteTime": {
     "end_time": "2019-06-05T14:54:46.123925Z",
     "start_time": "2019-06-05T14:54:46.007237Z"
    }
   },
   "outputs": [
    {
     "data": {
      "text/html": [
       "<div>\n",
       "<style scoped>\n",
       "    .dataframe tbody tr th:only-of-type {\n",
       "        vertical-align: middle;\n",
       "    }\n",
       "\n",
       "    .dataframe tbody tr th {\n",
       "        vertical-align: top;\n",
       "    }\n",
       "\n",
       "    .dataframe thead th {\n",
       "        text-align: right;\n",
       "    }\n",
       "</style>\n",
       "<table border=\"1\" class=\"dataframe\">\n",
       "  <thead>\n",
       "    <tr style=\"text-align: right;\">\n",
       "      <th></th>\n",
       "      <th>batch_size</th>\n",
       "      <th>early_stop_option</th>\n",
       "      <th>epochs</th>\n",
       "      <th>image_transforms_training</th>\n",
       "      <th>image_transforms_validation</th>\n",
       "      <th>learning_rate</th>\n",
       "      <th>weight_decay</th>\n",
       "      <th>lowest_validation_loss</th>\n",
       "      <th>time</th>\n",
       "    </tr>\n",
       "  </thead>\n",
       "  <tbody>\n",
       "    <tr>\n",
       "      <th>0</th>\n",
       "      <td>5</td>\n",
       "      <td>False</td>\n",
       "      <td>5</td>\n",
       "      <td>Compose(\\n    RandomResizedCrop(size=(256, 256...</td>\n",
       "      <td>Compose(\\n    Resize(size=256, interpolation=P...</td>\n",
       "      <td>0.002</td>\n",
       "      <td>0.000</td>\n",
       "      <td>0.242480</td>\n",
       "      <td>65.614795</td>\n",
       "    </tr>\n",
       "    <tr>\n",
       "      <th>1</th>\n",
       "      <td>5</td>\n",
       "      <td>False</td>\n",
       "      <td>5</td>\n",
       "      <td>Compose(\\n    RandomResizedCrop(size=(256, 256...</td>\n",
       "      <td>Compose(\\n    Resize(size=256, interpolation=P...</td>\n",
       "      <td>0.016</td>\n",
       "      <td>0.002</td>\n",
       "      <td>0.354067</td>\n",
       "      <td>59.913184</td>\n",
       "    </tr>\n",
       "    <tr>\n",
       "      <th>2</th>\n",
       "      <td>15</td>\n",
       "      <td>False</td>\n",
       "      <td>5</td>\n",
       "      <td>Compose(\\n    RandomResizedCrop(size=(256, 256...</td>\n",
       "      <td>Compose(\\n    Resize(size=256, interpolation=P...</td>\n",
       "      <td>0.006</td>\n",
       "      <td>0.016</td>\n",
       "      <td>0.438929</td>\n",
       "      <td>48.821792</td>\n",
       "    </tr>\n",
       "  </tbody>\n",
       "</table>\n",
       "</div>"
      ],
      "text/plain": [
       "   batch_size  early_stop_option  epochs  \\\n",
       "0           5              False       5   \n",
       "1           5              False       5   \n",
       "2          15              False       5   \n",
       "\n",
       "                           image_transforms_training  \\\n",
       "0  Compose(\\n    RandomResizedCrop(size=(256, 256...   \n",
       "1  Compose(\\n    RandomResizedCrop(size=(256, 256...   \n",
       "2  Compose(\\n    RandomResizedCrop(size=(256, 256...   \n",
       "\n",
       "                         image_transforms_validation  learning_rate  \\\n",
       "0  Compose(\\n    Resize(size=256, interpolation=P...          0.002   \n",
       "1  Compose(\\n    Resize(size=256, interpolation=P...          0.016   \n",
       "2  Compose(\\n    Resize(size=256, interpolation=P...          0.006   \n",
       "\n",
       "   weight_decay  lowest_validation_loss       time  \n",
       "0         0.000                0.242480  65.614795  \n",
       "1         0.002                0.354067  59.913184  \n",
       "2         0.016                0.438929  48.821792  "
      ]
     },
     "execution_count": 9,
     "metadata": {},
     "output_type": "execute_result"
    }
   ],
   "source": [
    "results"
   ]
  },
  {
   "cell_type": "code",
   "execution_count": 10,
   "metadata": {
    "ExecuteTime": {
     "end_time": "2019-06-05T14:54:46.230638Z",
     "start_time": "2019-06-05T14:54:46.125919Z"
    }
   },
   "outputs": [],
   "source": [
    "best_learner = optimizer.get_best_learner()"
   ]
  }
 ],
 "metadata": {
  "kernelspec": {
   "display_name": "photo-classifier",
   "language": "python",
   "name": "photo-classifier"
  },
  "language_info": {
   "codemirror_mode": {
    "name": "ipython",
    "version": 3
   },
   "file_extension": ".py",
   "mimetype": "text/x-python",
   "name": "python",
   "nbconvert_exporter": "python",
   "pygments_lexer": "ipython3",
   "version": "3.6.5"
  },
  "varInspector": {
   "cols": {
    "lenName": 16,
    "lenType": 16,
    "lenVar": 40
   },
   "kernels_config": {
    "python": {
     "delete_cmd_postfix": "",
     "delete_cmd_prefix": "del ",
     "library": "var_list.py",
     "varRefreshCmd": "print(var_dic_list())"
    },
    "r": {
     "delete_cmd_postfix": ") ",
     "delete_cmd_prefix": "rm(",
     "library": "var_list.r",
     "varRefreshCmd": "cat(var_dic_list()) "
    }
   },
   "types_to_exclude": [
    "module",
    "function",
    "builtin_function_or_method",
    "instance",
    "_Feature"
   ],
   "window_display": false
  }
 },
 "nbformat": 4,
 "nbformat_minor": 2
}
