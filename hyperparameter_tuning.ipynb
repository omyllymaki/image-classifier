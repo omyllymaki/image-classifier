{
 "cells": [
  {
   "cell_type": "markdown",
   "metadata": {},
   "source": [
    "# Photo Classifier: Hyperparameter tuning"
   ]
  },
  {
   "cell_type": "markdown",
   "metadata": {},
   "source": [
    "## Imports"
   ]
  },
  {
   "cell_type": "code",
   "execution_count": 1,
   "metadata": {
    "ExecuteTime": {
     "end_time": "2019-06-08T11:07:52.493944Z",
     "start_time": "2019-06-08T11:07:52.168809Z"
    }
   },
   "outputs": [],
   "source": [
    "from IPython.core.interactiveshell import InteractiveShell\n",
    "%matplotlib inline\n",
    "%load_ext autoreload\n",
    "%autoreload 2\n",
    "InteractiveShell.ast_node_interactivity = \"all\""
   ]
  },
  {
   "cell_type": "code",
   "execution_count": 2,
   "metadata": {
    "ExecuteTime": {
     "end_time": "2019-06-08T11:07:52.546395Z",
     "start_time": "2019-06-08T11:07:52.495565Z"
    }
   },
   "outputs": [],
   "source": [
    "import logging"
   ]
  },
  {
   "cell_type": "code",
   "execution_count": 3,
   "metadata": {
    "ExecuteTime": {
     "end_time": "2019-06-08T11:07:53.531977Z",
     "start_time": "2019-06-08T11:07:52.548390Z"
    }
   },
   "outputs": [],
   "source": [
    "from file_io import load_pickle_file\n",
    "from constants import *\n",
    "from utils import *\n",
    "from model import get_pretrained_model_for_transfer_learning\n",
    "from learners.utils import get_learner\n",
    "from model_optimizer import ModelOptimizer\n",
    "from image_transforms import *"
   ]
  },
  {
   "cell_type": "code",
   "execution_count": 4,
   "metadata": {
    "ExecuteTime": {
     "end_time": "2019-06-08T11:07:53.643673Z",
     "start_time": "2019-06-08T11:07:53.534009Z"
    }
   },
   "outputs": [],
   "source": [
    "if RANDOM_SEED:\n",
    "    set_random_seeds(RANDOM_SEED)\n",
    "logging.basicConfig(level=logging.INFO)"
   ]
  },
  {
   "cell_type": "markdown",
   "metadata": {
    "ExecuteTime": {
     "end_time": "2019-05-31T14:17:31.698276Z",
     "start_time": "2019-05-31T14:17:31.694283Z"
    }
   },
   "source": [
    "## Load model and data"
   ]
  },
  {
   "cell_type": "code",
   "execution_count": 5,
   "metadata": {
    "ExecuteTime": {
     "end_time": "2019-06-08T11:07:54.282964Z",
     "start_time": "2019-06-08T11:07:53.646672Z"
    }
   },
   "outputs": [],
   "source": [
    "image_data = load_pickle_file(IMAGE_DATA_PATH)"
   ]
  },
  {
   "cell_type": "code",
   "execution_count": 6,
   "metadata": {
    "ExecuteTime": {
     "end_time": "2019-06-08T11:07:55.251488Z",
     "start_time": "2019-06-08T11:07:54.284959Z"
    }
   },
   "outputs": [],
   "source": [
    "n_classes = len(image_data.labels)\n",
    "model = get_pretrained_model_for_transfer_learning(n_classes, IS_MULTILABEL_CLASSIFICATION, DROPOUT, MODEL_ARCHITECTURE)\n",
    "Learner = get_learner(IS_MULTILABEL_CLASSIFICATION)\n",
    "learner = Learner(model, use_gpu=USE_GPU)"
   ]
  },
  {
   "cell_type": "markdown",
   "metadata": {},
   "source": [
    "## Hyperparameter tuning"
   ]
  },
  {
   "cell_type": "code",
   "execution_count": 7,
   "metadata": {
    "ExecuteTime": {
     "end_time": "2019-06-08T11:07:55.355100Z",
     "start_time": "2019-06-08T11:07:55.253351Z"
    }
   },
   "outputs": [],
   "source": [
    "parameter_options = {\n",
    "    'learning_rate': [0.002*k for k in range(10)],\n",
    "    'weight_decay': [0.002*k for k in range(10)],\n",
    "    'epochs': [5],\n",
    "    'batch_size': [5, 10, 15],\n",
    "    'image_transforms_training': [TransformsTraining],\n",
    "    'image_transforms_validation': [TransformsTest],\n",
    "    'early_stop_option': [False],\n",
    "}"
   ]
  },
  {
   "cell_type": "code",
   "execution_count": 8,
   "metadata": {
    "ExecuteTime": {
     "end_time": "2019-06-08T11:08:27.896892Z",
     "start_time": "2019-06-08T11:07:55.358071Z"
    }
   },
   "outputs": [
    {
     "name": "stderr",
     "output_type": "stream",
     "text": [
      "INFO:model_optimizer:1/3\n",
      "INFO:learners.base_learner:\n",
      "            Epoch: 1/5\n",
      "            Validation loss: 0.8120878338813782\n",
      "INFO:learners.base_learner:\n",
      "            Epoch: 2/5\n",
      "            Validation loss: 0.48705437779426575\n",
      "INFO:learners.base_learner:\n",
      "            Epoch: 3/5\n",
      "            Validation loss: 0.6190658807754517\n",
      "INFO:learners.base_learner:\n",
      "            Epoch: 4/5\n",
      "            Validation loss: 0.7238577008247375\n",
      "INFO:learners.base_learner:\n",
      "            Epoch: 5/5\n",
      "            Validation loss: 0.329302579164505\n",
      "INFO:learners.base_learner:Lowest validation loss: epoch: 5; loss: 0.329302579164505\n",
      "INFO:model_optimizer:2/3\n",
      "INFO:learners.base_learner:\n",
      "            Epoch: 1/5\n",
      "            Validation loss: 3.9102516174316406\n",
      "INFO:learners.base_learner:\n",
      "            Epoch: 2/5\n",
      "            Validation loss: 0.41550663113594055\n",
      "INFO:learners.base_learner:\n",
      "            Epoch: 3/5\n",
      "            Validation loss: 0.47529852390289307\n",
      "INFO:learners.base_learner:\n",
      "            Epoch: 4/5\n",
      "            Validation loss: 1.1384114027023315\n",
      "INFO:learners.base_learner:\n",
      "            Epoch: 5/5\n",
      "            Validation loss: 0.6555512547492981\n",
      "INFO:learners.base_learner:Lowest validation loss: epoch: 2; loss: 0.41550663113594055\n",
      "INFO:model_optimizer:3/3\n",
      "INFO:learners.base_learner:\n",
      "            Epoch: 1/5\n",
      "            Validation loss: 0.7254819869995117\n",
      "INFO:learners.base_learner:\n",
      "            Epoch: 2/5\n",
      "            Validation loss: 0.3285059928894043\n",
      "INFO:learners.base_learner:\n",
      "            Epoch: 3/5\n",
      "            Validation loss: 1.3862360715866089\n",
      "INFO:learners.base_learner:\n",
      "            Epoch: 4/5\n",
      "            Validation loss: 0.20380744338035583\n",
      "INFO:learners.base_learner:\n",
      "            Epoch: 5/5\n",
      "            Validation loss: 0.7740005254745483\n",
      "INFO:learners.base_learner:Lowest validation loss: epoch: 4; loss: 0.20380744338035583\n"
     ]
    }
   ],
   "source": [
    "optimizer = ModelOptimizer(learner, image_data, parameter_options)\n",
    "results = optimizer.run_random_search(3)"
   ]
  },
  {
   "cell_type": "code",
   "execution_count": 9,
   "metadata": {
    "ExecuteTime": {
     "end_time": "2019-06-08T11:08:28.064410Z",
     "start_time": "2019-06-08T11:08:27.899848Z"
    }
   },
   "outputs": [
    {
     "data": {
      "text/html": [
       "<div>\n",
       "<style scoped>\n",
       "    .dataframe tbody tr th:only-of-type {\n",
       "        vertical-align: middle;\n",
       "    }\n",
       "\n",
       "    .dataframe tbody tr th {\n",
       "        vertical-align: top;\n",
       "    }\n",
       "\n",
       "    .dataframe thead th {\n",
       "        text-align: right;\n",
       "    }\n",
       "</style>\n",
       "<table border=\"1\" class=\"dataframe\">\n",
       "  <thead>\n",
       "    <tr style=\"text-align: right;\">\n",
       "      <th></th>\n",
       "      <th>batch_size</th>\n",
       "      <th>early_stop_option</th>\n",
       "      <th>epochs</th>\n",
       "      <th>image_transforms_training</th>\n",
       "      <th>image_transforms_validation</th>\n",
       "      <th>learning_rate</th>\n",
       "      <th>weight_decay</th>\n",
       "      <th>lowest_validation_loss</th>\n",
       "      <th>time</th>\n",
       "    </tr>\n",
       "  </thead>\n",
       "  <tbody>\n",
       "    <tr>\n",
       "      <th>2</th>\n",
       "      <td>15</td>\n",
       "      <td>False</td>\n",
       "      <td>5</td>\n",
       "      <td>Compose(\\n    RandomResizedCrop(size=(256, 256...</td>\n",
       "      <td>Compose(\\n    Resize(size=256, interpolation=P...</td>\n",
       "      <td>0.006</td>\n",
       "      <td>0.016</td>\n",
       "      <td>0.203807</td>\n",
       "      <td>9.516833</td>\n",
       "    </tr>\n",
       "    <tr>\n",
       "      <th>0</th>\n",
       "      <td>5</td>\n",
       "      <td>False</td>\n",
       "      <td>5</td>\n",
       "      <td>Compose(\\n    RandomResizedCrop(size=(256, 256...</td>\n",
       "      <td>Compose(\\n    Resize(size=256, interpolation=P...</td>\n",
       "      <td>0.002</td>\n",
       "      <td>0.000</td>\n",
       "      <td>0.329303</td>\n",
       "      <td>12.798655</td>\n",
       "    </tr>\n",
       "    <tr>\n",
       "      <th>1</th>\n",
       "      <td>5</td>\n",
       "      <td>False</td>\n",
       "      <td>5</td>\n",
       "      <td>Compose(\\n    RandomResizedCrop(size=(256, 256...</td>\n",
       "      <td>Compose(\\n    Resize(size=256, interpolation=P...</td>\n",
       "      <td>0.016</td>\n",
       "      <td>0.002</td>\n",
       "      <td>0.415507</td>\n",
       "      <td>10.086663</td>\n",
       "    </tr>\n",
       "  </tbody>\n",
       "</table>\n",
       "</div>"
      ],
      "text/plain": [
       "   batch_size  early_stop_option  epochs  \\\n",
       "2          15              False       5   \n",
       "0           5              False       5   \n",
       "1           5              False       5   \n",
       "\n",
       "                           image_transforms_training  \\\n",
       "2  Compose(\\n    RandomResizedCrop(size=(256, 256...   \n",
       "0  Compose(\\n    RandomResizedCrop(size=(256, 256...   \n",
       "1  Compose(\\n    RandomResizedCrop(size=(256, 256...   \n",
       "\n",
       "                         image_transforms_validation  learning_rate  \\\n",
       "2  Compose(\\n    Resize(size=256, interpolation=P...          0.006   \n",
       "0  Compose(\\n    Resize(size=256, interpolation=P...          0.002   \n",
       "1  Compose(\\n    Resize(size=256, interpolation=P...          0.016   \n",
       "\n",
       "   weight_decay  lowest_validation_loss       time  \n",
       "2         0.016                0.203807   9.516833  \n",
       "0         0.000                0.329303  12.798655  \n",
       "1         0.002                0.415507  10.086663  "
      ]
     },
     "execution_count": 9,
     "metadata": {},
     "output_type": "execute_result"
    }
   ],
   "source": [
    "results"
   ]
  },
  {
   "cell_type": "code",
   "execution_count": 10,
   "metadata": {
    "ExecuteTime": {
     "end_time": "2019-06-08T11:08:28.177109Z",
     "start_time": "2019-06-08T11:08:28.067401Z"
    }
   },
   "outputs": [],
   "source": [
    "best_learner = optimizer.get_best_learner()"
   ]
  }
 ],
 "metadata": {
  "kernelspec": {
   "display_name": "image-classifier",
   "language": "python",
   "name": "image-classifier"
  },
  "language_info": {
   "codemirror_mode": {
    "name": "ipython",
    "version": 3
   },
   "file_extension": ".py",
   "mimetype": "text/x-python",
   "name": "python",
   "nbconvert_exporter": "python",
   "pygments_lexer": "ipython3",
   "version": "3.6.5"
  },
  "varInspector": {
   "cols": {
    "lenName": 16,
    "lenType": 16,
    "lenVar": 40
   },
   "kernels_config": {
    "python": {
     "delete_cmd_postfix": "",
     "delete_cmd_prefix": "del ",
     "library": "var_list.py",
     "varRefreshCmd": "print(var_dic_list())"
    },
    "r": {
     "delete_cmd_postfix": ") ",
     "delete_cmd_prefix": "rm(",
     "library": "var_list.r",
     "varRefreshCmd": "cat(var_dic_list()) "
    }
   },
   "types_to_exclude": [
    "module",
    "function",
    "builtin_function_or_method",
    "instance",
    "_Feature"
   ],
   "window_display": false
  }
 },
 "nbformat": 4,
 "nbformat_minor": 2
}
